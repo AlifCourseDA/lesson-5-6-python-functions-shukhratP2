{
 "cells": [
  {
   "attachments": {
    "image-2.png": {
     "image/png": "[encoded data removed]"
    }
   },
   "cell_type": "markdown",
   "id": "72604ce5",
   "metadata": {
    "slideshow": {
     "slide_type": "slide"
    }
   },
   "source": [
    "![image-2.png](attachment:image-2.png)"
   ]
  },
  {
   "cell_type": "markdown",
   "id": "00dd6fb6",
   "metadata": {
    "slideshow": {
     "slide_type": "fragment"
    }
   },
   "source": [
    "# Модуль 1.1: Python для аналитиков\n",
    "\n",
    "\n",
    "### Функции\n",
    "\n",
    "### Задания с занятия "
   ]
  },
  {
   "cell_type": "code",
   "execution_count": 1,
   "id": "4e0150fd",
   "metadata": {
    "slideshow": {
     "slide_type": "slide"
    }
   },
   "outputs": [
    {
     "name": "stdout",
     "output_type": "stream",
     "text": [
      "Before calling f()\n",
      "-- Inside f()\n",
      "After calling f()\n"
     ]
    }
   ],
   "source": [
    "def f():\n",
    "    s = '-- Inside f()'\n",
    "    print(s)\n",
    "\n",
    "print('Before calling f()')\n",
    "f()\n",
    "print('After calling f()')"
   ]
  },
  {
   "cell_type": "code",
   "execution_count": 42,
   "id": "1e15eda1",
   "metadata": {
    "slideshow": {
     "slide_type": "slide"
    }
   },
   "outputs": [
    {
     "name": "stdout",
     "output_type": "stream",
     "text": [
      "Inside the function:\n",
      "Local variable: 5\n",
      "Global variable accessed locally: 12\n"
     ]
    },
    {
     "ename": "NameError",
     "evalue": "name 'local_variable' is not defined",
     "output_type": "error",
     "traceback": [
      "\u001b[0;31m---------------------------------------------------------------------------\u001b[0m",
      "\u001b[0;31mNameError\u001b[0m                                 Traceback (most recent call last)",
      "\u001b[0;32m/var/folders/n0/smq5fg256x31yyqwtsnfdpwr0000gn/T/ipykernel_31678/1629148821.py\u001b[0m in \u001b[0;36m<module>\u001b[0;34m\u001b[0m\n\u001b[1;32m     15\u001b[0m \u001b[0mexample_function\u001b[0m\u001b[0;34m(\u001b[0m\u001b[0;34m)\u001b[0m\u001b[0;34m\u001b[0m\u001b[0;34m\u001b[0m\u001b[0m\n\u001b[1;32m     16\u001b[0m \u001b[0;34m\u001b[0m\u001b[0m\n\u001b[0;32m---> 17\u001b[0;31m \u001b[0mprint\u001b[0m\u001b[0;34m(\u001b[0m\u001b[0mlocal_variable\u001b[0m\u001b[0;34m)\u001b[0m\u001b[0;34m\u001b[0m\u001b[0;34m\u001b[0m\u001b[0m\n\u001b[0m",
      "\u001b[0;31mNameError\u001b[0m: name 'local_variable' is not defined"
     ]
    }
   ],
   "source": [
    "global_variable = 10 \n",
    "\n",
    "def example_function():\n",
    "\n",
    "    local_variable = 5\n",
    "    \n",
    "    global_access = global_variable + 2\n",
    "    \n",
    "    print('Inside the function:')\n",
    "    print('Local variable:', local_variable)\n",
    "    print('Global variable accessed locally:', global_access)\n",
    "    \n",
    "    \n",
    "# call the function\n",
    "example_function()\n",
    "\n",
    "print(local_variable)"
   ]
  },
  {
   "cell_type": "code",
   "execution_count": 43,
   "id": "24560ce3",
   "metadata": {
    "slideshow": {
     "slide_type": "slide"
    }
   },
   "outputs": [
    {
     "name": "stdout",
     "output_type": "stream",
     "text": [
      "True\n",
      "False\n"
     ]
    }
   ],
   "source": [
    "def only_even(numbers):\n",
    "    result = True\n",
    "    for x in numbers:\n",
    "        if x % 2 != 0:\n",
    "            result = False\n",
    "            break\n",
    "    return result\n",
    "\n",
    "\n",
    "print(only_even([2, 4, 6]))\n",
    "print(only_even([1, 2, 3]))"
   ]
  },
  {
   "cell_type": "code",
   "execution_count": 45,
   "id": "1fd098ae",
   "metadata": {
    "slideshow": {
     "slide_type": "slide"
    }
   },
   "outputs": [
    {
     "name": "stdout",
     "output_type": "stream",
     "text": [
      "True\n",
      "False\n"
     ]
    }
   ],
   "source": [
    "def only_even(numbers):\n",
    "    for i, x in enumerate(numbers):\n",
    "        if x % 2 != 0:\n",
    "            return False\n",
    "    return True\n",
    "\n",
    "\n",
    "print(only_even([2, 4, 6]))\n",
    "print(only_even([1, 2, 3]))"
   ]
  },
  {
   "cell_type": "markdown",
   "id": "d6e519ea",
   "metadata": {
    "slideshow": {
     "slide_type": "slide"
    }
   },
   "source": [
    "Мы уже знаем, что аргумент функции — это локальная переменная. К нему также относится правило: изменение значения переменной (если это разрешено типом данных) действует на внешнюю переменную, а присваивание нового значения создаёт локальную переменную функции"
   ]
  },
  {
   "cell_type": "code",
   "execution_count": 9,
   "id": "2870316d",
   "metadata": {
    "scrolled": true,
    "slideshow": {
     "slide_type": "fragment"
    }
   },
   "outputs": [
    {
     "name": "stdout",
     "output_type": "stream",
     "text": [
      "[1, 2, 3]\n",
      "[1, 2, 3, 4]\n"
     ]
    }
   ],
   "source": [
    "def list_modify_1(list_arg):\n",
    "    #A создаём новый локальный список, не имеющий связи с внешним\n",
    "    list_arg = [1, 2, 3, 4]\n",
    "\n",
    "\n",
    "def list_modify_2(list_arg):\n",
    "    # меняем исходный внешний список, переданный как аргумент\n",
    "    list_arg += [4]\n",
    "#     list_arg = list_arg[:1]\n",
    "\n",
    "\n",
    "sample_1 = [1, 2, 3]\n",
    "sample_2 = [1, 2, 3]\n",
    "list_modify_1(sample_1)\n",
    "list_modify_2(sample_2)\n",
    "print(sample_1)\n",
    "print(sample_2)"
   ]
  },
  {
   "cell_type": "code",
   "execution_count": 19,
   "id": "5ef94cf9",
   "metadata": {
    "slideshow": {
     "slide_type": "slide"
    }
   },
   "outputs": [
    {
     "name": "stdout",
     "output_type": "stream",
     "text": [
      "Количество вызовов функции равно 1.\n",
      "Количество вызовов функции равно 2.\n",
      "Количество вызовов функции равно 3.\n"
     ]
    }
   ],
   "source": [
    "# Изменение глобальной переменной в функции при ПРИСВОЕНИИ\n",
    "# но использование global считается плохой практикой \n",
    "def inc():\n",
    "    global x\n",
    "    x += 1\n",
    "    print(f\"Количество вызовов функции равно {x}.\")\n",
    "\n",
    "\n",
    "x = 0\n",
    "inc()\n",
    "inc()\n",
    "inc()"
   ]
  },
  {
   "cell_type": "code",
   "execution_count": 12,
   "id": "4b6287a1",
   "metadata": {
    "slideshow": {
     "slide_type": "fragment"
    }
   },
   "outputs": [
    {
     "name": "stdout",
     "output_type": "stream",
     "text": [
      "Количество вызовов функции равно 1.\n",
      "Количество вызовов функции равно 2.\n",
      "Количество вызовов функции равно 3.\n"
     ]
    }
   ],
   "source": [
    "def f(count):\n",
    "    count += 1\n",
    "    print(f'Количество вызовов функции равно {count}.')\n",
    "    return count\n",
    "\n",
    "    \n",
    "count_f = 0\n",
    "count_f = f(count_f)\n",
    "count_f = f(count_f)\n",
    "count_f = f(count_f)"
   ]
  },
  {
   "cell_type": "code",
   "execution_count": 20,
   "id": "2b1c8055",
   "metadata": {
    "slideshow": {
     "slide_type": "slide"
    }
   },
   "outputs": [],
   "source": [
    "# позиционные аргументы\n",
    "# из-за последовательного перечисления при вызове функции\n",
    "def f(qty, item, price):\n",
    "    print(f'{qty} {item} cost ${price:.2f}')"
   ]
  },
  {
   "cell_type": "code",
   "execution_count": 22,
   "id": "b778a3d1",
   "metadata": {
    "slideshow": {
     "slide_type": "fragment"
    }
   },
   "outputs": [
    {
     "name": "stdout",
     "output_type": "stream",
     "text": [
      "6 bananas cost $1.74\n"
     ]
    }
   ],
   "source": [
    "f(6, 'bananas', 1.74)"
   ]
  },
  {
   "cell_type": "code",
   "execution_count": 23,
   "id": "a73c4daa",
   "metadata": {
    "slideshow": {
     "slide_type": "slide"
    }
   },
   "outputs": [
    {
     "name": "stdout",
     "output_type": "stream",
     "text": [
      "6 bananas cost $1.74\n"
     ]
    }
   ],
   "source": [
    "# именованные аргументы\n",
    "f(qty=6, item='bananas', price=1.74)"
   ]
  },
  {
   "cell_type": "code",
   "execution_count": 25,
   "id": "12f2b022",
   "metadata": {
    "slideshow": {
     "slide_type": "fragment"
    }
   },
   "outputs": [
    {
     "ename": "TypeError",
     "evalue": "f() got an unexpected keyword argument 'cost'",
     "output_type": "error",
     "traceback": [
      "\u001b[0;31m---------------------------------------------------------------------------\u001b[0m",
      "\u001b[0;31mTypeError\u001b[0m                                 Traceback (most recent call last)",
      "\u001b[0;32m/var/folders/n0/smq5fg256x31yyqwtsnfdpwr0000gn/T/ipykernel_33991/553431656.py\u001b[0m in \u001b[0;36m<module>\u001b[0;34m\u001b[0m\n\u001b[1;32m      1\u001b[0m \u001b[0;31m# должны быть существующими\u001b[0m\u001b[0;34m\u001b[0m\u001b[0;34m\u001b[0m\u001b[0m\n\u001b[0;32m----> 2\u001b[0;31m \u001b[0mf\u001b[0m\u001b[0;34m(\u001b[0m\u001b[0mqty\u001b[0m\u001b[0;34m=\u001b[0m\u001b[0;36m6\u001b[0m\u001b[0;34m,\u001b[0m \u001b[0mitem\u001b[0m\u001b[0;34m=\u001b[0m\u001b[0;34m'bananas'\u001b[0m\u001b[0;34m,\u001b[0m \u001b[0mcost\u001b[0m\u001b[0;34m=\u001b[0m\u001b[0;36m1.74\u001b[0m\u001b[0;34m)\u001b[0m\u001b[0;34m\u001b[0m\u001b[0;34m\u001b[0m\u001b[0m\n\u001b[0m",
      "\u001b[0;31mTypeError\u001b[0m: f() got an unexpected keyword argument 'cost'"
     ]
    }
   ],
   "source": [
    "# должны быть существующими\n",
    "f(qty=6, item='bananas', cost=1.74)"
   ]
  },
  {
   "cell_type": "code",
   "execution_count": 26,
   "id": "4b4cc87e",
   "metadata": {
    "slideshow": {
     "slide_type": "fragment"
    }
   },
   "outputs": [
    {
     "name": "stdout",
     "output_type": "stream",
     "text": [
      "6 bananas cost $1.74\n"
     ]
    }
   ],
   "source": [
    "# порядок не имеет значения\n",
    "f(item='bananas', price=1.74, qty=6)"
   ]
  },
  {
   "cell_type": "code",
   "execution_count": 21,
   "id": "67e6dc4c",
   "metadata": {
    "slideshow": {
     "slide_type": "slide"
    }
   },
   "outputs": [
    {
     "ename": "TypeError",
     "evalue": "f() missing 1 required positional argument: 'price'",
     "output_type": "error",
     "traceback": [
      "\u001b[0;31m---------------------------------------------------------------------------\u001b[0m",
      "\u001b[0;31mTypeError\u001b[0m                                 Traceback (most recent call last)",
      "\u001b[0;32m/var/folders/n0/smq5fg256x31yyqwtsnfdpwr0000gn/T/ipykernel_31678/2558164307.py\u001b[0m in \u001b[0;36m<module>\u001b[0;34m\u001b[0m\n\u001b[1;32m      1\u001b[0m \u001b[0;31m# количество аргументов должно соответствовать\u001b[0m\u001b[0;34m\u001b[0m\u001b[0;34m\u001b[0m\u001b[0m\n\u001b[0;32m----> 2\u001b[0;31m \u001b[0mf\u001b[0m\u001b[0;34m(\u001b[0m\u001b[0mqty\u001b[0m\u001b[0;34m=\u001b[0m\u001b[0;36m6\u001b[0m\u001b[0;34m,\u001b[0m \u001b[0mitem\u001b[0m\u001b[0;34m=\u001b[0m\u001b[0;34m'bananas'\u001b[0m\u001b[0;34m)\u001b[0m\u001b[0;34m\u001b[0m\u001b[0;34m\u001b[0m\u001b[0m\n\u001b[0m",
      "\u001b[0;31mTypeError\u001b[0m: f() missing 1 required positional argument: 'price'"
     ]
    }
   ],
   "source": [
    "# количество аргументов должно соответствовать \n",
    "f(qty=6, item='bananas')"
   ]
  },
  {
   "cell_type": "code",
   "execution_count": 27,
   "id": "056070dc",
   "metadata": {
    "slideshow": {
     "slide_type": "slide"
    }
   },
   "outputs": [
    {
     "name": "stdout",
     "output_type": "stream",
     "text": [
      "6 bananas cost $1.74\n",
      "6 bananas cost $1.74\n"
     ]
    }
   ],
   "source": [
    "# можно комбинировать позиционные и именованные аргументы\n",
    "f(6, price=1.74, item='bananas')\n",
    "f(6, 'bananas', price=1.74)\n"
   ]
  },
  {
   "cell_type": "code",
   "execution_count": 29,
   "id": "2e2de86d",
   "metadata": {
    "slideshow": {
     "slide_type": "fragment"
    }
   },
   "outputs": [
    {
     "ename": "SyntaxError",
     "evalue": "positional argument follows keyword argument (2238686384.py, line 3)",
     "output_type": "error",
     "traceback": [
      "\u001b[0;36m  File \u001b[0;32m\"/var/folders/n0/smq5fg256x31yyqwtsnfdpwr0000gn/T/ipykernel_33991/2238686384.py\"\u001b[0;36m, line \u001b[0;32m3\u001b[0m\n\u001b[0;31m    f(item='bananas', 6, 1.74)\u001b[0m\n\u001b[0m                             ^\u001b[0m\n\u001b[0;31mSyntaxError\u001b[0m\u001b[0;31m:\u001b[0m positional argument follows keyword argument\n"
     ]
    }
   ],
   "source": [
    "# НО есть одно НО\n",
    "#positional arguments must come first\n",
    "f(item='bananas', 6, 1.74)"
   ]
  },
  {
   "cell_type": "code",
   "execution_count": 31,
   "id": "d580caca",
   "metadata": {
    "slideshow": {
     "slide_type": "slide"
    }
   },
   "outputs": [],
   "source": [
    "# значения по умолчанию\n",
    "def f(qty=6, item='bananas', price=1.74):\n",
    "    print(f'{qty} {item} cost ${price:.2f}')"
   ]
  },
  {
   "cell_type": "code",
   "execution_count": 32,
   "id": "0e10145f",
   "metadata": {
    "slideshow": {
     "slide_type": "fragment"
    }
   },
   "outputs": [
    {
     "name": "stdout",
     "output_type": "stream",
     "text": [
      "4 apples cost $2.24\n",
      "4 apples cost $1.74\n",
      "4 bananas cost $1.74\n",
      "6 bananas cost $1.74\n",
      "9 kumquats cost $1.74\n",
      "6 bananas cost $2.29\n"
     ]
    }
   ],
   "source": [
    "f(4, 'apples', 2.24)\n",
    "\n",
    "f(4, 'apples')\n",
    "\n",
    "\n",
    "f(4)\n",
    "\n",
    "f()\n",
    "\n",
    "\n",
    "f(item='kumquats', qty=9)\n",
    "\n",
    "f(price=2.29)"
   ]
  },
  {
   "cell_type": "markdown",
   "id": "a90435cf",
   "metadata": {
    "slideshow": {
     "slide_type": "slide"
    }
   },
   "source": [
    "In summary:\n",
    "\n",
    "- Positional arguments must agree in order and number with the parameters declared in the function definition.\n",
    "- Keyword arguments must agree with declared parameters in number, but they may be specified in arbitrary order.\n",
    "- Default parameters allow some arguments to be omitted when the function is called."
   ]
  },
  {
   "cell_type": "code",
   "execution_count": 41,
   "id": "a3782f8f",
   "metadata": {
    "slideshow": {
     "slide_type": "slide"
    }
   },
   "outputs": [
    {
     "name": "stdout",
     "output_type": "stream",
     "text": [
      "140357664450432\n",
      "[0]\n",
      "140358465637504\n",
      "[1, 2, 3, 0]\n",
      "140357664450432\n",
      "[0, 1]\n"
     ]
    },
    {
     "ename": "NameError",
     "evalue": "name 'list_arg' is not defined",
     "output_type": "error",
     "traceback": [
      "\u001b[0;31m---------------------------------------------------------------------------\u001b[0m",
      "\u001b[0;31mNameError\u001b[0m                                 Traceback (most recent call last)",
      "\u001b[0;32m/var/folders/n0/smq5fg256x31yyqwtsnfdpwr0000gn/T/ipykernel_33991/1901375227.py\u001b[0m in \u001b[0;36m<module>\u001b[0;34m\u001b[0m\n\u001b[1;32m      9\u001b[0m \u001b[0mprint\u001b[0m\u001b[0;34m(\u001b[0m\u001b[0madd_value\u001b[0m\u001b[0;34m(\u001b[0m\u001b[0;36m1\u001b[0m\u001b[0;34m)\u001b[0m\u001b[0;34m)\u001b[0m\u001b[0;34m\u001b[0m\u001b[0;34m\u001b[0m\u001b[0m\n\u001b[1;32m     10\u001b[0m \u001b[0;34m\u001b[0m\u001b[0m\n\u001b[0;32m---> 11\u001b[0;31m \u001b[0mprint\u001b[0m\u001b[0;34m(\u001b[0m\u001b[0mlist_arg\u001b[0m\u001b[0;34m)\u001b[0m\u001b[0;34m\u001b[0m\u001b[0;34m\u001b[0m\u001b[0m\n\u001b[0m",
      "\u001b[0;31mNameError\u001b[0m: name 'list_arg' is not defined"
     ]
    }
   ],
   "source": [
    "def add_value(x, list_arg=[]):\n",
    "    list_arg += [x]\n",
    "    print(id(list_arg))\n",
    "    return list_arg\n",
    "\n",
    "\n",
    "print(add_value(0))\n",
    "print(add_value(0, [1, 2, 3]))\n",
    "print(add_value(1))\n",
    "\n",
    "print(list_arg)"
   ]
  },
  {
   "cell_type": "code",
   "execution_count": 42,
   "id": "2d4575e2",
   "metadata": {
    "slideshow": {
     "slide_type": "slide"
    }
   },
   "outputs": [
    {
     "name": "stdout",
     "output_type": "stream",
     "text": [
      "140357664442368\n",
      "[0]\n",
      "140357663387136\n",
      "[1, 2, 3, 0]\n",
      "140357664451136\n",
      "[1]\n"
     ]
    }
   ],
   "source": [
    "def add_value(x, list_arg=None):\n",
    "    if list_arg is None:\n",
    "        list_arg = []\n",
    "    list_arg += [x]\n",
    "    print(id(list_arg))\n",
    "    return list_arg\n",
    "\n",
    "\n",
    "print(add_value(0))\n",
    "print(add_value(0, [1, 2, 3]))\n",
    "print(add_value(1))"
   ]
  },
  {
   "cell_type": "markdown",
   "id": "ed19d254",
   "metadata": {
    "slideshow": {
     "slide_type": "slide"
    }
   },
   "source": [
    "Причина такого поведения:\n",
    "\n",
    "In Python, default parameter values **are defined only once when the function is defined** (that is, when the def statement is executed). The default value isn’t re-defined each time the function is called. Thus, each time you call f() without a parameter, you’re performing .append() on the same list."
   ]
  },
  {
   "cell_type": "code",
   "execution_count": 39,
   "id": "c032dbc2",
   "metadata": {
    "slideshow": {
     "slide_type": "slide"
    }
   },
   "outputs": [
    {
     "data": {
      "text/plain": [
       "['###', '###', '###']"
      ]
     },
     "execution_count": 39,
     "metadata": {},
     "output_type": "execute_result"
    }
   ],
   "source": [
    "# Задание \n",
    "\n",
    "def f(my_list=[]): \n",
    "    my_list.append('###')\n",
    "    return my_list\n",
    "\n",
    "f()\n",
    "f()\n",
    "f()"
   ]
  },
  {
   "cell_type": "code",
   "execution_count": 7,
   "id": "25cab084",
   "metadata": {
    "slideshow": {
     "slide_type": "slide"
    }
   },
   "outputs": [
    {
     "name": "stdout",
     "output_type": "stream",
     "text": [
      "('foo', 'bar', 'baz')\n"
     ]
    }
   ],
   "source": [
    "# Tuple argument unpacking\n",
    "\n",
    "def f(x, y, z):\n",
    "    print(f'x = {x}')\n",
    "    print(f'y = {y}')\n",
    "    print(f'z = {z}')\n",
    "\n",
    "\n",
    "# f(1, 2, 3)\n",
    "\n",
    "\n",
    "\n",
    "t = ('foo', 'bar', 'baz')\n",
    "print(t)"
   ]
  },
  {
   "cell_type": "code",
   "execution_count": 8,
   "id": "cc991cb7",
   "metadata": {
    "slideshow": {
     "slide_type": "slide"
    }
   },
   "outputs": [
    {
     "name": "stdout",
     "output_type": "stream",
     "text": [
      "<class 'tuple'> ('foo', 'bar', 'baz', 'qux')\n"
     ]
    }
   ],
   "source": [
    "def f(*args):\n",
    "    print(type(args), args)\n",
    "\n",
    "\n",
    "a = ['foo', 'bar', 'baz', 'qux']\n",
    "f(*a)"
   ]
  },
  {
   "cell_type": "code",
   "execution_count": 37,
   "id": "5aaad674",
   "metadata": {
    "slideshow": {
     "slide_type": "slide"
    }
   },
   "outputs": [
    {
     "name": "stdout",
     "output_type": "stream",
     "text": [
      "1\n",
      "2\n",
      "3\n",
      "4\n",
      "5\n",
      "6\n",
      "8\n",
      "9\n",
      "7\n"
     ]
    }
   ],
   "source": [
    "def f(*args):\n",
    "    for i in args:\n",
    "            print(i)\n",
    "\n",
    "\n",
    "a = [1, 2, 3]\n",
    "t = (4, 5, 6)\n",
    "s = {7, 8, 9}\n",
    "\n",
    "f(*a, *t, *s)"
   ]
  },
  {
   "cell_type": "code",
   "execution_count": 40,
   "id": "f60b81a3",
   "metadata": {
    "scrolled": true,
    "slideshow": {
     "slide_type": "slide"
    }
   },
   "outputs": [
    {
     "name": "stdout",
     "output_type": "stream",
     "text": [
      "([1, 2, 5],)\n",
      "<class 'tuple'>\n",
      "[1, 2, 5]\n"
     ]
    }
   ],
   "source": [
    "# распакова аргументов словарей\n",
    "\n",
    "def f(*kwargs):\n",
    "    print(kwargs)\n",
    "    print(type(kwargs))\n",
    "    for item in kwargs: \n",
    "        print(item)\n",
    "\n",
    "# l = [1, 2, 5]\n",
    "f([1, 2, 5])"
   ]
  },
  {
   "cell_type": "code",
   "execution_count": 16,
   "id": "ca62c15b",
   "metadata": {
    "slideshow": {
     "slide_type": "slide"
    }
   },
   "outputs": [
    {
     "name": "stdout",
     "output_type": "stream",
     "text": [
      "d1 -> {'a': 1, 'b': 2}\n"
     ]
    }
   ],
   "source": [
    "def f(**kwargs):\n",
    "    for k, v in kwargs.items():\n",
    "            print(k, '->', v)\n",
    "\n",
    "\n",
    "d1 = {'a': 1, 'b': 2}\n",
    "d2 = {'x': 3, 'y': 4}\n",
    "\n",
    "f(d1 = {'a': 1, 'b': 2})"
   ]
  },
  {
   "cell_type": "code",
   "execution_count": 18,
   "id": "047ff219",
   "metadata": {
    "slideshow": {
     "slide_type": "slide"
    }
   },
   "outputs": [
    {
     "name": "stdout",
     "output_type": "stream",
     "text": [
      "1\n",
      "2\n",
      "3\n",
      "4\n",
      "5\n",
      "6\n",
      "a -> {'a': 1, 'b': 2}\n",
      "x -> 3\n",
      "y -> 4\n",
      "d -> d\n",
      "e -> e\n"
     ]
    }
   ],
   "source": [
    "def f(*args):\n",
    "    for i in args:\n",
    "            print(i)\n",
    "\n",
    "\n",
    "f(*[1, 2, 3], *[4, 5, 6])\n",
    "\n",
    "\n",
    "def f(**kwargs):\n",
    "    for k, v in kwargs.items():\n",
    "            print(k, '->', v)\n",
    "\n",
    "\n",
    "f(a = {'a': 1, 'b': 2}, **{'x': 3, 'y': 4}, d = 'd', e = 'e')"
   ]
  },
  {
   "cell_type": "code",
   "execution_count": 20,
   "id": "da573dc4",
   "metadata": {
    "slideshow": {
     "slide_type": "slide"
    }
   },
   "outputs": [
    {
     "name": "stdout",
     "output_type": "stream",
     "text": [
      "15\n",
      "Hello, World!\n",
      "Name: John Age: Country: USA \n"
     ]
    }
   ],
   "source": [
    "def sum_all_numbers(*args):\n",
    "    \"\"\"\n",
    "    Суммирует все числовые аргументы.\n",
    "    \"\"\"\n",
    "    total = 0\n",
    "    for num in args:\n",
    "        if isinstance(num, (int, float)):\n",
    "            total += num\n",
    "    return total\n",
    "\n",
    "def concatenate_strings(*args):\n",
    "    \"\"\"\n",
    "    Конкатенирует все строковые аргументы.\n",
    "    \"\"\"\n",
    "    result = \"\"\n",
    "    for s in args:\n",
    "        if isinstance(s, str):\n",
    "            result += s\n",
    "    return result\n",
    "\n",
    "def display_info(*args):\n",
    "    \"\"\"\n",
    "    Конкатенирует и отображает информацию из строковых аргументов.\n",
    "    \"\"\"\n",
    "    result = \"\"\n",
    "    for info in args:\n",
    "        if isinstance(info, str):\n",
    "            result += info + \" \"\n",
    "    print(result)\n",
    "\n",
    "# Примеры использования:\n",
    "\n",
    "# Суммирование чисел\n",
    "print(sum_all_numbers(1, 2, 3, 4, 5))  # Вывод: 15\n",
    "\n",
    "# Конкатенация строк\n",
    "print(concatenate_strings(\"Hello\", \", \", \"World\", \"!\"))  # Вывод: Hello, World!\n",
    "\n",
    "# Отображение информации\n",
    "display_info(\"Name:\", \"John\", \"Age:\", 25, \"Country:\", \"USA\")  # Вывод: Name: John Age: 25 Country: USA\n"
   ]
  },
  {
   "cell_type": "code",
   "execution_count": null,
   "id": "99b06dd5",
   "metadata": {
    "slideshow": {
     "slide_type": "slide"
    }
   },
   "outputs": [],
   "source": [
    "# Assignment Title: Exploring the Power of *args and **kwargs in Python\n",
    "\n",
    "# Function 1: sum_all_numbers\n",
    "def sum_all_numbers(*args):\n",
    "    return sum(args)\n",
    "\n",
    "# Function 2: concatenate_strings\n",
    "def concatenate_strings(*args):\n",
    "    return ''.join(args)\n",
    "\n",
    "# Function 3: display_info\n",
    "def display_info(**kwargs):\n",
    "    for key, value in kwargs.items():\n",
    "        print(f\"{key}: {value}\")\n",
    "\n",
    "# Additional Function 1: multiply_numbers\n",
    "def multiply_numbers(*args):\n",
    "    result = 1\n",
    "    for num in args:\n",
    "        result *= num\n",
    "    return result\n",
    "\n",
    "# Additional Function 2: format_and_display\n",
    "def format_and_display(title, **kwargs):\n",
    "    print(title)\n",
    "    display_info(**kwargs)\n",
    "\n",
    "# Additional Function 3: repeat_string\n",
    "def repeat_string(s, times, **kwargs):\n",
    "    repeated_string = s * times\n",
    "    display_info(repeated_string=repeated_string, **kwargs)\n",
    "\n",
    "# Test Cases\n",
    "assert sum_all_numbers(1, 2, 3) == 6\n",
    "assert concatenate_strings('Hello', ' ', 'World') == 'Hello World'\n",
    "\n",
    "display_info(name='John', age=25, city='New York')\n",
    "\n",
    "assert multiply_numbers(2, 3, 4) == 24\n",
    "\n",
    "format_and_display(\"Person Information\", name='Alice', age=30, country='USA')\n",
    "\n",
    "repeat_string(\"Python\", 3, description=\"A versatile programming language\", category=\"General-purpose\")\n",
    "\n",
    "# You can add more test cases to further validate your functions\n",
    "\n"
   ]
  },
  {
   "cell_type": "code",
   "execution_count": 36,
   "id": "55952463",
   "metadata": {
    "slideshow": {
     "slide_type": "slide"
    }
   },
   "outputs": [
    {
     "name": "stdout",
     "output_type": "stream",
     "text": [
      "8\n",
      "24\n",
      "49\n",
      "True\n",
      "olleH\n",
      "[2, 4, 6, 8, 10]\n",
      "[4, 16, 36, 64, 100]\n"
     ]
    }
   ],
   "source": [
    "add = lambda x, y: x + y\n",
    "print(add(5, 3))  # Output: 8\n",
    "\n",
    "multiply = lambda x, y: x * y\n",
    "print(multiply(4, 6))  # Output: 24\n",
    "\n",
    "square = lambda x: x ** 2\n",
    "print(square(7))  # Output: 49\n",
    "\n",
    "is_even = lambda x: x % 2 == 0\n",
    "print(is_even(10))  # Output: True\n",
    "\n",
    "reverse_string = lambda s: s[::-1]\n",
    "print(reverse_string(\"Hello\"))  # Output: \"olleH\"\n",
    "\n",
    "numbers = [1, 2, 3, 4, 5, 6, 7, 8, 9, 10]\n",
    "even_numbers = list(filter(lambda x: x % 2 == 0, numbers))\n",
    "print(even_numbers)  # Output: [2, 4, 6, 8, 10]\n",
    "\n",
    "numbers = [1, 2, 3, 4, 5]\n",
    "squared_numbers = list(map(lambda x, y: (x + y) ** 2, numbers, numbers))\n",
    "print(squared_numbers)  # Output: [1, 4, 9, 16, 25]\n",
    "\n",
    "list1 = [1, 2, 3]\n",
    "list2 = [4, 5, 6]\n",
    "\n",
    "combined = list(map(lambda x, y, z: x + y + z, list1, list2, list1))"
   ]
  },
  {
   "cell_type": "code",
   "execution_count": 21,
   "id": "53dad2c7",
   "metadata": {},
   "outputs": [
    {
     "name": "stdout",
     "output_type": "stream",
     "text": [
      "(1, (2, 3), {'a': 'apple', 'b': 'banana'})\n"
     ]
    }
   ],
   "source": [
    "# Lambda function with *args and **kwargs\n",
    "lambda_function = lambda x, *args, **kwargs: (x, args, kwargs)\n",
    "\n",
    "# Call the lambda function with arguments\n",
    "result = lambda_function(1, 2, 3, a='apple', b='banana')\n",
    "\n",
    "# Display the result\n",
    "print(result)\n"
   ]
  },
  {
   "cell_type": "code",
   "execution_count": 27,
   "id": "6b69ba6c",
   "metadata": {},
   "outputs": [
    {
     "name": "stdout",
     "output_type": "stream",
     "text": [
      "[1, 4, 9, 16, 25, 1, 4, 9, 16, 25]\n"
     ]
    }
   ],
   "source": [
    "def square(x):\n",
    "    return x ** 2\n",
    "\n",
    "def square_list_elements(lst):\n",
    "    # Using map() to apply the square function to each element of the list\n",
    "    squared_values = list(map(square, lst+lst))\n",
    "    return squared_values\n",
    "\n",
    "# Example usage:\n",
    "my_list = [1, 2, 3, 4, 5]\n",
    "my_list1 = [1, 2, 3]\n",
    "result = square_list_elements(my_list)\n",
    "\n",
    "print(result)\n"
   ]
  },
  {
   "cell_type": "code",
   "execution_count": null,
   "id": "e5cafec2",
   "metadata": {},
   "outputs": [],
   "source": []
  },
  {
   "cell_type": "code",
   "execution_count": 10,
   "id": "f178e0ce",
   "metadata": {
    "slideshow": {
     "slide_type": "slide"
    }
   },
   "outputs": [],
   "source": [
    "def square_generator(limit):\n",
    "    for i in range(limit):\n",
    "        yield i ** 2\n",
    "\n",
    "# Using the generator\n",
    "my_gen = square_generator(5)\n",
    "\n",
    "# for value in my_gen:\n",
    "#     print(value)\n"
   ]
  },
  {
   "cell_type": "code",
   "execution_count": 9,
   "id": "d0ffffb5",
   "metadata": {},
   "outputs": [
    {
     "data": {
      "text/plain": [
       "4"
      ]
     },
     "execution_count": 9,
     "metadata": {},
     "output_type": "execute_result"
    }
   ],
   "source": [
    "next(my_gen)"
   ]
  },
  {
   "cell_type": "code",
   "execution_count": 13,
   "id": "873bd08b",
   "metadata": {},
   "outputs": [],
   "source": [
    "# def file_reader(file_path):\n",
    "#     rows = []\n",
    "#     for row in open(file_path, \"r\"):\n",
    "#         rows.append(row)\n",
    "#     return rows\n",
    "  \n",
    "# def print_row_count():\n",
    "#     count = 0\n",
    "#     for row in file_reader(\"large_file\"):\n",
    "#         count += 1\n",
    "#     print(f\"Total count is {count}\")\n",
    "\n",
    "# print_row_count()"
   ]
  },
  {
   "cell_type": "code",
   "execution_count": 2,
   "id": "8f8e2f00",
   "metadata": {},
   "outputs": [
    {
     "name": "stdout",
     "output_type": "stream",
     "text": [
      "Total count is 9976146\n"
     ]
    }
   ],
   "source": [
    "def gen_file_reader(file_path):\n",
    "    for row in open(file_path, \"r\"):\n",
    "         yield row\n",
    "        \n",
    "def gen_print_row_count():\n",
    "    count = 0\n",
    "    for row in gen_file_reader(\"/Users/otabekmamatkulov/Desktop/all_problem_transactions.csv\"):\n",
    "        count += 1\n",
    "    print(f\"Total count is {count}\")\n",
    "    \n",
    "gen_print_row_count()"
   ]
  },
  {
   "cell_type": "code",
   "execution_count": 5,
   "id": "9d836eaa",
   "metadata": {},
   "outputs": [
    {
     "name": "stdout",
     "output_type": "stream",
     "text": [
      "15\n",
      "10\n"
     ]
    }
   ],
   "source": [
    "x = 10\n",
    "\n",
    "def foo():\n",
    "    y = 5\n",
    "    print(x + y)\n",
    "\n",
    "foo()\n",
    "print(x)"
   ]
  },
  {
   "cell_type": "code",
   "execution_count": null,
   "id": "360f0cf9",
   "metadata": {},
   "outputs": [],
   "source": []
  }
 ],
 "metadata": {
  "celltoolbar": "Slideshow",
  "kernelspec": {
   "display_name": "Python 3 (ipykernel)",
   "language": "python",
   "name": "python3"
  },
  "language_info": {
   "codemirror_mode": {
    "name": "ipython",
    "version": 3
   },
   "file_extension": ".py",
   "mimetype": "text/x-python",
   "name": "python",
   "nbconvert_exporter": "python",
   "pygments_lexer": "ipython3",
   "version": "3.9.13"
  }
 },
 "nbformat": 4,
 "nbformat_minor": 5
}
